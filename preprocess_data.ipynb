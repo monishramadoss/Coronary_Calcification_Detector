{
 "cells": [
  {
   "cell_type": "code",
   "execution_count": 2,
   "id": "12f4897c",
   "metadata": {},
   "outputs": [],
   "source": [
    "import os\n",
    "import glob\n",
    "import numpy as np\n",
    "from os.path import join\n",
    "from medpy.io import load\n",
    "from jarvis.utils.display import imshow\n",
    "data_root = 'D:\\\\data/'\n",
    "# data_root = '/home/mramados/data'\n",
    "os.makedirs('./data', exist_ok=True)"
   ]
  },
  {
   "cell_type": "code",
   "execution_count": 3,
   "metadata": {},
   "outputs": [
    {
     "output_type": "display_data",
     "data": {
      "text/plain": "  0%|          | 0/32 [00:00<?, ?it/s]",
      "application/vnd.jupyter.widget-view+json": {
       "version_major": 2,
       "version_minor": 0,
       "model_id": "7fcd20bdf77d48678f28da2d2234bdae"
      }
     },
     "metadata": {}
    },
    {
     "output_type": "stream",
     "name": "stdout",
     "text": [
      "(1540, 512, 512) (1540, 512, 512)\n"
     ]
    }
   ],
   "source": [
    "orca_data_train = join(data_root, 'orca', 'Training_Set', 'Train')\n",
    "orca_data_valid = join(data_root, 'orca', 'Training_Set', 'Validation')\n",
    "orca_data_test = join(data_root, 'orca', 'Testing_Set')\n",
    "\n",
    "orca_train_paths = [join(orca_data_train, secondary_path) \n",
    "    for secondary_path in os.listdir(orca_data_train)]\n",
    "orca_valid_paths = [join(orca_data_valid, secondary_path) \n",
    "    for secondary_path in os.listdir(orca_data_valid)]\n",
    "orca_test_paths =  [join(orca_data_test, secondary_path) \n",
    "    for secondary_path in os.listdir(orca_data_valid)]\n",
    "    \n",
    "orca_data = None\n",
    "orca_label = None\n",
    "\n",
    "for _path in orca_train_paths:\n",
    "    misc_name = glob.glob1(_path, '*ctai.mhd')[0]\n",
    "    data_name = glob.glob1(_path, '*cti.mhd')[0]\n",
    "    label_name = glob.glob1(_path, '*r.mhd')[0]\n",
    "    (data, _), (label, label_meta) = load(join(_path, data_name)), load(join(_path, label_name))\n",
    "    data = np.transpose(np.rot90(data, 3), (2, 0, 1))\n",
    "    label = np.transpose(np.rot90(label, 3), (2, 0, 1))\n",
    "    data = np.clip(data, 0, 64) / 32\n",
    "    label = np.clip(label, 0, 1)\n",
    "    if orca_data is None:\n",
    "        orca_data = data\n",
    "        orca_label = label\n",
    "    else:\n",
    "        orca_data = np.concatenate([orca_data, data], axis=0)\n",
    "        orca_label = np.concatenate([orca_label, label], axis=0)\n",
    "print(orca_data.shape, orca_label.shape)       \n",
    "orca_data = np.asarray(orca_data)\n",
    "np.save('./data/orca_data.npy', orca_data)\n",
    "orca_label = np.asarray(orca_label)\n",
    "np.save('./data/orca_label.npy', orca_label)"
   ]
  },
  {
   "cell_type": "code",
   "execution_count": 6,
   "metadata": {},
   "outputs": [
    {
     "output_type": "stream",
     "name": "stdout",
     "text": [
      "(4775, 512, 512) (4775, 512, 512)\n"
     ]
    },
    {
     "output_type": "error",
     "ename": "TypeError",
     "evalue": "_save_dispatcher() missing 1 required positional argument: 'arr'",
     "traceback": [
      "\u001b[1;31m---------------------------------------------------------------------------\u001b[0m",
      "\u001b[1;31mTypeError\u001b[0m                                 Traceback (most recent call last)",
      "\u001b[1;32m<ipython-input-6-6e5a6a7cd7e5>\u001b[0m in \u001b[0;36m<module>\u001b[1;34m\u001b[0m\n\u001b[0;32m     44\u001b[0m \u001b[0mnp\u001b[0m\u001b[1;33m.\u001b[0m\u001b[0msave\u001b[0m\u001b[1;33m(\u001b[0m\u001b[1;34m'./data/structseg_data.npy'\u001b[0m\u001b[1;33m,\u001b[0m \u001b[0mstructseg_data\u001b[0m\u001b[1;33m)\u001b[0m\u001b[1;33m\u001b[0m\u001b[1;33m\u001b[0m\u001b[0m\n\u001b[0;32m     45\u001b[0m \u001b[0mstructseg_label\u001b[0m \u001b[1;33m=\u001b[0m \u001b[0mnp\u001b[0m\u001b[1;33m.\u001b[0m\u001b[0masarray\u001b[0m\u001b[1;33m(\u001b[0m\u001b[0mstructseg_label\u001b[0m\u001b[1;33m)\u001b[0m\u001b[1;33m\u001b[0m\u001b[1;33m\u001b[0m\u001b[0m\n\u001b[1;32m---> 46\u001b[1;33m \u001b[0mnp\u001b[0m\u001b[1;33m.\u001b[0m\u001b[0msave\u001b[0m\u001b[1;33m(\u001b[0m\u001b[1;34m'./data/structseg_label.npy'\u001b[0m\u001b[1;33m)\u001b[0m\u001b[1;33m\u001b[0m\u001b[1;33m\u001b[0m\u001b[0m\n\u001b[0m",
      "\u001b[1;32m<__array_function__ internals>\u001b[0m in \u001b[0;36msave\u001b[1;34m(*args, **kwargs)\u001b[0m\n",
      "\u001b[1;31mTypeError\u001b[0m: _save_dispatcher() missing 1 required positional argument: 'arr'"
     ]
    }
   ],
   "source": [
    "_data = join(data_root, 'structseg')\n",
    "structseg_train_paths = [join(_data, secondary_path) \n",
    "    for secondary_path in os.listdir(_data)]\n",
    "\n",
    "from scipy import ndimage\n",
    "crop = 512\n",
    "zoom = 2.5\n",
    "center_x = 20\n",
    "center_y = 10\n",
    "structseg_data = None\n",
    "structseg_label = None\n",
    "\n",
    "for _path in structseg_train_paths:\n",
    "    data_name = glob.glob1(_path, 'data.nii.gz')[0]\n",
    "    label_name = glob.glob1(_path, 'label.nii.gz')[0]\n",
    "    (data, _), (label, label_meta) = load(join(_path, data_name)), load(join(_path, label_name))\n",
    "    data = np.transpose(np.rot90(data, 3), (2, 0, 1))\n",
    "    label = np.transpose(np.rot90(label, 3), (2, 0, 1))\n",
    "    data = np.flip(data, axis=(2))\n",
    "    label = np.flip(label, axis=(2))\n",
    "    min = np.min(data)\n",
    "    data = ndimage.interpolation.zoom(data, (1, zoom, zoom), order=3)\n",
    "    label = ndimage.interpolation.zoom(label, (1, zoom, zoom), order=0)\n",
    "    shape = data.shape[-2]    \n",
    "    start = shape // 2 - crop // 2    \n",
    "    t1 = start - center_x\n",
    "    data = data[:, start - center_x:start + crop - center_x, start - center_y:start + crop - center_y]\n",
    "    label = label[:, start - center_x:start + crop - center_x, start - center_y:start + crop - center_y]\n",
    "    lx, ly = data.shape[-2], data.shape[-1]\n",
    "    X, Y = np.ogrid[0:lx, 0:ly]\n",
    "    mask = (X - lx / 2) ** 2 + (Y - ly / 2) ** 2 > lx * ly / 4\n",
    "    data[:, mask] = min\n",
    "    label[:, mask] = 0        \n",
    "    data = np.clip(data, 0, 64) / 32\n",
    "    label = np.clip(label==3, 0, 1)\n",
    "    if structseg_data is None:\n",
    "        structseg_data = data\n",
    "        structseg_label = label       \n",
    "    else:\n",
    "        structseg_data = np.concatenate([structseg_data, data], axis=0)\n",
    "        structseg_label = np.concatenate([structseg_label, label], axis=0)\n",
    "print(structseg_data.shape, structseg_label.shape)        \n",
    "structseg_data = np.asarray(structseg_data)\n",
    "np.save('./data/structseg_data.npy', structseg_data)\n",
    "structseg_label = np.asarray(structseg_label)\n",
    "np.save('./data/structseg_label.npy', structseg_label)"
   ]
  },
  {
   "cell_type": "code",
   "execution_count": 8,
   "metadata": {},
   "outputs": [
    {
     "output_type": "stream",
     "name": "stdout",
     "text": [
      "(1540, 512, 512) (1540, 512, 512)\n"
     ]
    }
   ],
   "source": [
    "_data = join(data_root, 'plaque')\n",
    "plaque_train_paths = [join(_data, secondary_path) \n",
    "    for secondary_path in os.listdir(_data)]\n",
    "plaque_data = None\n",
    "plaque_label = None\n",
    "for _path in plaque_train_paths:\n",
    "    data_name = glob.glob1(_path, '*cti.npy')[0]\n",
    "    label_name = glob.glob1(_path, '*r.npy')[0]\n",
    "    data, label = np.load(join(_path, data_name)), np.load(join(_path, label_name))\n",
    "    #data = np.transpose(np.rot90(data, 3), (2, 0, 1))\n",
    "    #label = np.transpose(np.rot90(label, 3), (2, 0, 1))\n",
    "    data = np.clip(data, 0, 64) / 32\n",
    "    label = np.clip(label, 0, 1)\n",
    "    if plaque_data is None:\n",
    "        plaque_data = data\n",
    "        plaque_label = label\n",
    "    else:\n",
    "        plaque_data = np.concatenate([plaque_data, data], axis=0)\n",
    "        plaque_label = np.concatenate([plaque_label, label], axis=0)\n",
    "print(plaque_data.shape, plaque_label.shape)\n",
    "plaque_data = np.asarray(plaque_data)\n",
    "np.save('./data/plaque_data.npy', plaque_data)\n",
    "plaque_label = np.asarray(plaque_label)\n",
    "np.save('./data/plaque_label.npy', plaque_label)"
   ]
  },
  {
   "cell_type": "code",
   "execution_count": 1,
   "metadata": {},
   "outputs": [
    {
     "output_type": "stream",
     "name": "stdout",
     "text": [
      "^C\n"
     ]
    }
   ],
   "source": [
    "!python struct_seg.py"
   ]
  },
  {
   "cell_type": "code",
   "execution_count": null,
   "metadata": {},
   "outputs": [],
   "source": [
    "!python plaque_seg.py"
   ]
  }
 ],
 "metadata": {
  "kernelspec": {
   "name": "python3",
   "display_name": "Python 3.7.10 64-bit ('base': conda)"
  },
  "language_info": {
   "codemirror_mode": {
    "name": "ipython",
    "version": 3
   },
   "file_extension": ".py",
   "mimetype": "text/x-python",
   "name": "python",
   "nbconvert_exporter": "python",
   "pygments_lexer": "ipython3",
   "version": "3.7.10"
  },
  "interpreter": {
   "hash": "b3ba2566441a7c06988d0923437866b63cedc61552a5af99d1f4fb67d367b25f"
  }
 },
 "nbformat": 4,
 "nbformat_minor": 5
}