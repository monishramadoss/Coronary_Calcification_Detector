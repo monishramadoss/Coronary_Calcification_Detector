{
 "cells": [
  {
   "cell_type": "code",
   "execution_count": 1,
   "metadata": {},
   "outputs": [],
   "source": [
    "import os\n",
    "import glob\n",
    "import numpy as np\n",
    "import subprocess\n",
    "from os.path import join\n",
    "from medpy.io import load\n",
    "from jarvis.utils.display import imshow\n",
    "data_root = 'D:\\\\data/'\n",
    "#data_root = '/home/mramados/data'\n",
    "os.makedirs('./data', exist_ok=True)"
   ]
  },
  {
   "cell_type": "code",
   "execution_count": 5,
   "metadata": {},
   "outputs": [],
   "source": [
    "orca_data_train = join(data_root, 'orca', 'Training_Set', 'Train')\n",
    "orca_data_valid = join(data_root, 'orca', 'Training_Set', 'Validation')\n",
    "orca_data_test = join(data_root, 'orca', 'Testing_Set')\n",
    "\n",
    "orca_train_paths = [join(orca_data_train, secondary_path) \n",
    "    for secondary_path in os.listdir(orca_data_train)]\n",
    "orca_valid_paths = [join(orca_data_valid, secondary_path) \n",
    "    for secondary_path in os.listdir(orca_data_valid)]\n",
    "orca_test_paths =  [join(orca_data_test, secondary_path) \n",
    "    for secondary_path in os.listdir(orca_data_valid)]\n",
    "    \n",
    "orca_data = None\n",
    "orca_label = None\n",
    "\n",
    "for _path in orca_train_paths:\n",
    "    misc_name = glob.glob1(_path, '*ctai.mhd')[0]\n",
    "    data_name = glob.glob1(_path, '*cti.mhd')[0]\n",
    "    label_name = glob.glob1(_path, '*r.mhd')[0]\n",
    "    (data, _), (label, label_meta) = load(join(_path, data_name)), load(join(_path, label_name))\n",
    "    data = np.transpose(np.rot90(data, 3), (2, 0, 1))\n",
    "    label = np.transpose(np.rot90(label, 3), (2, 0, 1))\n",
    "    data = np.flip(data, axis=(2))\n",
    "    label = np.flip(label, axis=(2))\n",
    "    if orca_data is None:\n",
    "        orca_data = data\n",
    "        orca_label = label\n",
    "    else:\n",
    "        orca_data = np.concatenate([orca_data, data], axis=0)\n",
    "        orca_label = np.concatenate([orca_label, label], axis=0)\n",
    "\n",
    "orca_data = np.asarray(orca_data)\n",
    "np.save('./data/orca_data.npy', orca_data)\n",
    "orca_label = np.asarray(orca_label)\n",
    "np.save('./data/orca_label.npy', orca_label)"
   ]
  },
  {
   "cell_type": "code",
   "execution_count": 4,
   "metadata": {},
   "outputs": [],
   "source": [
    "_data = join(data_root, 'structseg')\n",
    "structseg_train_paths = [join(_data, secondary_path) \n",
    "    for secondary_path in os.listdir(_data)]\n",
    "\n",
    "from scipy import ndimage\n",
    "crop = 512\n",
    "zoom = 2.5\n",
    "center_x = 20\n",
    "center_y = 10\n",
    "structseg_data = None\n",
    "structseg_label = None\n",
    "\n",
    "for _path in structseg_train_paths:\n",
    "    data_name = glob.glob1(_path, 'data.nii.gz')[0]\n",
    "    label_name = glob.glob1(_path, 'label.nii.gz')[0]\n",
    "    (data, _), (label, label_meta) = load(join(_path, data_name)), load(join(_path, label_name))\n",
    "    data = np.transpose(np.rot90(data, 3), (2, 0, 1))\n",
    "    label = np.transpose(np.rot90(label, 3), (2, 0, 1))\n",
    "    data = np.flip(data, axis=(2))\n",
    "    label = np.flip(label, axis=(2))\n",
    "    min = np.min(data)\n",
    "    data = ndimage.interpolation.zoom(data, (1, zoom, zoom), order=3)\n",
    "    label = ndimage.interpolation.zoom(label, (1, zoom, zoom), order=0)\n",
    "    shape = data.shape[-2]    \n",
    "    start = shape // 2 - crop // 2    \n",
    "    t1 = start - center_x\n",
    "    data = data[:, start - center_x:start + crop - center_x, start - center_y:start + crop - center_y]\n",
    "    label = label[:, start - center_x:start + crop - center_x, start - center_y:start + crop - center_y]\n",
    "    lx, ly = data.shape[-2], data.shape[-1]\n",
    "    X, Y = np.ogrid[0:lx, 0:ly]\n",
    "    mask = (X - lx / 2) ** 2 + (Y - ly / 2) ** 2 > lx * ly / 4\n",
    "    data[:, mask] = min\n",
    "    label[:, mask] = 0        \n",
    "    label = (label==3)*1\n",
    "\n",
    "    #imshow(data, label, figsize=(128, 128))\n",
    "    if structseg_data is None:\n",
    "        structseg_data = data\n",
    "        structseg_label = label       \n",
    "    else:\n",
    "        structseg_data = np.concatenate([structseg_data, data], axis=0)\n",
    "        structseg_label = np.concatenate([structseg_label, label], axis=0)\n",
    "    \n",
    "\n",
    "structseg_data = np.asarray(structseg_data)\n",
    "np.save('./data/structseg_data.npy', structseg_data)\n",
    "structseg_label = np.asarray(structseg_label)\n",
    "np.save('./data/structseg_label.npy', structseg_label)"
   ]
  },
  {
   "cell_type": "code",
   "execution_count": 6,
   "metadata": {},
   "outputs": [],
   "source": [
    "_data = join(data_root, 'plaque')\n",
    "plaque_train_paths = [join(_data, secondary_path) \n",
    "    for secondary_path in os.listdir(_data)]\n",
    "plaque_data = None\n",
    "plaque_label = None\n",
    "for _path in plaque_train_paths:\n",
    "    data_name = glob.glob1(_path, '*cti.npy')[0]\n",
    "    label_name = glob.glob1(_path, '*r.npy')[0]\n",
    "    data, label = np.load(join(_path, data_name)), np.load(join(_path, label_name))\n",
    "    if plaque_data is None:\n",
    "        plaque_data = data\n",
    "        plaque_label = label\n",
    "    else:\n",
    "        plaque_data = np.concatenate([plaque_data, data], axis=0)\n",
    "        plaque_label = np.concatenate([plaque_label, label], axis=0)\n",
    "\n",
    "plaque_data = np.asarray(plaque_data)\n",
    "np.save('./data/plaque_data.npy', plaque_data)\n",
    "plaque_label = np.asarray(plaque_label)\n",
    "np.save('./data/plaque_label.npy', plaque_label)"
   ]
  },
  {
   "cell_type": "code",
   "execution_count": 1,
   "metadata": {},
   "outputs": [],
   "source": [
    "if not os.path.isfile('./struct_seg/model.h5'):\n",
    "    file_out = open('./struct_stdout', 'w')\n",
    "    subprocess.Popen(['python', 'struct_seg.py'], stdout=file_out, shell=False)\n",
    "    file_out.flush()\n",
    "    file_out.close()"
   ]
  },
  {
   "cell_type": "code",
   "execution_count": 2,
   "metadata": {},
   "outputs": [],
   "source": [
    "if not os.path.isfile('./data/heart_msk_data.npy'):\n",
    "    file_out = open('./mask_stdout', 'w')\n",
    "    subprocess.Popen(['python', 'heart_mask_gen.py'], stdout=file_out, shell=False)\n",
    "    file_out.flush()\n",
    "    file_out.close()"
   ]
  },
  {
   "cell_type": "code",
   "execution_count": 7,
   "metadata": {},
   "outputs": [],
   "source": [
    "if not os.path.isfile('./plaque_seg/model.h5'):\n",
    "    file_out = open('./plaque_stdout', 'w')\n",
    "    subprocess.Popen('python plaque_seg.py', stdout=file_out, shell=False)\n",
    "    file_out.flush()\n",
    "    file_out.close()"
   ]
  },
  {
   "cell_type": "code",
   "execution_count": null,
   "metadata": {},
   "outputs": [],
   "source": []
  }
 ],
 "metadata": {
  "interpreter": {
   "hash": "b3ba2566441a7c06988d0923437866b63cedc61552a5af99d1f4fb67d367b25f"
  },
  "kernelspec": {
   "name": "python3",
   "display_name": "Python 3.7.10 64-bit ('base': conda)"
  },
  "language_info": {
   "codemirror_mode": {
    "name": "ipython",
    "version": 3
   },
   "file_extension": ".py",
   "mimetype": "text/x-python",
   "name": "python",
   "nbconvert_exporter": "python",
   "pygments_lexer": "ipython3",
   "version": "3.7.10"
  }
 },
 "nbformat": 4,
 "nbformat_minor": 5
}